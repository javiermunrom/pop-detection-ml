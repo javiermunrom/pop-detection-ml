{
 "cells": [
  {
   "cell_type": "code",
   "execution_count": 7,
   "id": "c6304159",
   "metadata": {},
   "outputs": [],
   "source": [
    "import pandas as pd\n",
    "import numpy as np\n",
    "from pathlib import Path\n",
    "from sklearn.model_selection import StratifiedShuffleSplit\n",
    "import joblib\n",
    "\n",
    "def agrupar_frames(df, window_size=50, step=25):\n",
    "    \"\"\"\n",
    "    Agrupa los frames en ventanas de tamaño window_size, avanzando en pasos de 'step',\n",
    "    calculando para cada ventana y para cada columna numérica (excepto 'video', 'frame' y 'organ'):\n",
    "        - Media (mean)\n",
    "        - Máximo (max)\n",
    "        - Mínimo (min)\n",
    "        - Rango (range = max - min)\n",
    "        - Asimetría (skewness)\n",
    "        - Desviación estándar (std)\n",
    "    \n",
    "    Parámetros:\n",
    "        df (pd.DataFrame): DataFrame con las columnas, incluyendo 'video', 'frame' y 'organ'.\n",
    "        window_size (int): Tamaño de la ventana (por defecto 50).\n",
    "        step (int): Tamaño del salto entre ventanas (por defecto 25).\n",
    "    \n",
    "    Retorna:\n",
    "        pd.DataFrame: Nuevo DataFrame con columnas 'video', 'organ', 'frame_start', 'frame_end'\n",
    "                      y las estadísticas calculadas para cada ventana.\n",
    "    \"\"\"\n",
    "    filas_resultado = []\n",
    "    columnas_calcular = [col for col in df.columns if col not in [\"video\", \"frame\", \"organ\"]]\n",
    "    \n",
    "    for (video, organ), grupo in df.groupby([\"video\", \"organ\"]):\n",
    "        grupo = grupo.sort_values(\"frame\")\n",
    "        n = len(grupo)\n",
    "        \n",
    "        for start in range(0, n, step):\n",
    "            ventana = grupo.iloc[start:start + window_size]\n",
    "            # Si la ventana tiene menos de 5 frames, se salta\n",
    "            if len(ventana) < 5:\n",
    "                continue\n",
    "        \n",
    "            frame_start = ventana[\"frame\"].iloc[0]\n",
    "            frame_end = ventana[\"frame\"].iloc[-1]\n",
    "            resultado = {\"video\": video, \"organ\": organ,\n",
    "                         \"frame_start\": frame_start, \"frame_end\": frame_end}\n",
    "        \n",
    "            for col in columnas_calcular:\n",
    "                serie = ventana[col]\n",
    "                resultado[f\"mean_{col}\"] = serie.mean()\n",
    "                resultado[f\"max_{col}\"] = serie.max()\n",
    "                resultado[f\"min_{col}\"] = serie.min()\n",
    "                resultado[f\"range_{col}\"] = serie.max() - serie.min()\n",
    "                resultado[f\"skew_{col}\"] = serie.skew()\n",
    "                resultado[f\"std_{col}\"] = serie.std()\n",
    "        \n",
    "            filas_resultado.append(resultado)\n",
    "\n",
    "    \n",
    "    return pd.DataFrame(filas_resultado)\n",
    "\n",
    "\n",
    "def guardar_csv(datos, ruta, index=False):\n",
    "    \"\"\"\n",
    "    Guarda un DataFrame como archivo CSV en la ruta indicada.\n",
    "\n",
    "    Parámetros:\n",
    "    ----------\n",
    "    datos : cualquier cosa (se espera un DataFrame)\n",
    "        Objeto a guardar como CSV.\n",
    "    ruta : str\n",
    "        Ruta completa del archivo CSV (incluyendo el nombre del archivo).\n",
    "    index : bool, opcional\n",
    "        Si se desea guardar el índice del DataFrame (por defecto False).\n",
    "\n",
    "    Retorna:\n",
    "    -------\n",
    "    None\n",
    "    \"\"\"\n",
    "    ruta_csv = Path(ruta)\n",
    "    ruta_csv.parent.mkdir(parents=True, exist_ok=True)\n",
    "    datos.to_csv(ruta_csv, index=index)\n",
    "    print(f\"Archivo guardado en: {ruta_csv.resolve()}\")\n"
   ]
  },
  {
   "cell_type": "code",
   "execution_count": null,
   "id": "2a61d595",
   "metadata": {},
   "outputs": [],
   "source": [
    "BASE_DIR = Path.cwd().parent.parent\n",
    "\n",
    "df_frame_path_50 = BASE_DIR / 'data_storage' / 'csv_by_frame' / 'Frame-data-50.csv'\n",
    "df_frame_path_60 = BASE_DIR / 'data_storage' / 'csv_by_frame' / 'Frame-data-60.csv'\n",
    "\n",
    "df_frame_50 = pd.read_csv(df_frame_path_50)\n",
    "df_frame_60 = pd.read_csv(df_frame_path_60)\n",
    "\n",
    "target_path = BASE_DIR / 'data_storage' / 'target_csv' / 'target_labels_clean.csv'\n",
    "df_target = pd.read_csv(target_path)"
   ]
  },
  {
   "cell_type": "code",
   "execution_count": 5,
   "id": "da3b830e",
   "metadata": {},
   "outputs": [],
   "source": [
    "df_50 = agrupar_frames(df_frame_50)\n",
    "df_60 = agrupar_frames(df_frame_60)"
   ]
  },
  {
   "cell_type": "code",
   "execution_count": 9,
   "id": "fd8a98e4",
   "metadata": {},
   "outputs": [
    {
     "name": "stdout",
     "output_type": "stream",
     "text": [
      "Archivo guardado en: C:\\Users\\javie\\Universidad\\tfg\\pop-detection-ml\\data_storage\\csv_by_window\\Data-50.csv\n",
      "Archivo guardado en: C:\\Users\\javie\\Universidad\\tfg\\pop-detection-ml\\data_storage\\csv_by_window\\Data-60.csv\n"
     ]
    }
   ],
   "source": [
    "guardar_csv(df_50, BASE_DIR / 'data_storage' / 'csv_by_window' / 'Data-50.csv')\n",
    "guardar_csv(df_60, BASE_DIR / 'data_storage' / 'csv_by_window' / 'Data-60.csv')"
   ]
  },
  {
   "cell_type": "code",
   "execution_count": null,
   "id": "d1aab80b",
   "metadata": {},
   "outputs": [],
   "source": [
    "#[cystocele, cystourethrocele, uterine_prolapse, cervical_elongation, rectocele, any_prolapse]\n",
    "\n",
    "def agregar_columna(df, df_prolapse, columna):\n",
    "    \"\"\"\n",
    "    Agrega a df la columna 'columna' proveniente de df_prolapse, \n",
    "    realizando el merge entre df['video'] y df_prolapse['case'].\n",
    "    Convierte los valores booleanos a enteros (False=0, True=1).\n",
    "\n",
    "    Parámetros:\n",
    "      df: DataFrame principal (tiene la columna 'video').\n",
    "      df_prolapse: DataFrame con la columna 'case' y las columnas de interés.\n",
    "      columna: Nombre de la columna a agregar (ej. 'any_prolapse').\n",
    "\n",
    "    Retorna:\n",
    "      df con la nueva columna añadida.\n",
    "    \"\"\"\n",
    "    if columna not in df_prolapse.columns:\n",
    "        raise ValueError(f\"La columna '{columna}' no se encuentra en df_prolapse.\")\n",
    "    \n",
    "    df_aux = df_prolapse[['case', columna]].copy()\n",
    "    df_aux[columna] = df_aux[columna].astype(int)\n",
    "    \n",
    "    df_merged = df.merge(df_aux, left_on='video', right_on='case', how='left')\n",
    "    \n",
    "    df_merged.drop(columns='case', inplace=True)\n",
    "    \n",
    "    return df_merged\n",
    "\n",
    "\n"
   ]
  },
  {
   "cell_type": "code",
   "execution_count": 10,
   "id": "271c45c8",
   "metadata": {},
   "outputs": [],
   "source": [
    "df_any_prolapse_50 = agregar_columna(df_50, df_target, 'any_prolapse')\n",
    "df_any_prolapse_60 = agregar_columna(df_60, df_target, 'any_prolapse')\n",
    "df_cystocele_50 = agregar_columna(df_50, df_target, 'cystocele')\n",
    "df_cystocele_60 = agregar_columna(df_60, df_target, 'cystocele')\n",
    "df_cystourethrocele_50 = agregar_columna(df_50, df_target, 'cystourethrocele')\n",
    "df_cystourethrocele_60 = agregar_columna(df_60, df_target, 'cystourethrocele')\n",
    "df_uterine_prolapse_50 = agregar_columna(df_50, df_target, 'uterine_prolapse')\n",
    "df_uterine_prolapse_60 = agregar_columna(df_60, df_target, 'uterine_prolapse')\n",
    "df_rectocele_50 = agregar_columna(df_50, df_target, 'rectocele')\n",
    "df_rectocele_60 = agregar_columna(df_60, df_target, 'rectocele')\n",
    "df_cervical_elongation_50 = agregar_columna(df_50, df_target, 'cervical_elongation')\n",
    "df_cervical_elongation_60 = agregar_columna(df_60, df_target, 'cervical_elongation')"
   ]
  },
  {
   "cell_type": "code",
   "execution_count": null,
   "id": "5596f568",
   "metadata": {},
   "outputs": [],
   "source": [
    "def obtener_videos_sin_prolapso(df):\n",
    "    \"\"\"\n",
    "    Obtiene los valores únicos de la columna 'video' donde 'any_prolapse' es NaN.\n",
    "    \n",
    "    :param df: DataFrame de Pandas.\n",
    "    :return: Lista de valores únicos de la columna 'video'.\n",
    "    \"\"\"\n",
    "    return df[df['any_prolapse'].isna()]['video'].unique()\n",
    "\n",
    "def eliminar_videos(df, lista_videos):\n",
    "    \"\"\"\n",
    "    Elimina del DataFrame las filas cuyo valor en la columna 'video' esté en la lista proporcionada\n",
    "    y guarda el resultado en un archivo CSV.\n",
    "    \n",
    "    :param df: DataFrame de Pandas.\n",
    "    :param lista_videos: Lista de valores a eliminar en la columna 'video'.\n",
    "    :param archivo_salida: Nombre del archivo CSV de salida (por defecto 'videos_filtrados.csv').\n",
    "    :return: DataFrame sin las filas cuyo 'video' esté en la lista.\n",
    "    \"\"\"\n",
    "    df_filtrado = df[~df['video'].isin(lista_videos)].reset_index(drop=True)\n",
    "    \n",
    "    return df_filtrado\n"
   ]
  },
  {
   "cell_type": "code",
   "execution_count": 12,
   "id": "08e0c2be",
   "metadata": {},
   "outputs": [],
   "source": [
    "eliminar = obtener_videos_sin_prolapso(df_any_prolapse_50)\n",
    "df_any_prolapse_50 = eliminar_videos(df_any_prolapse_50, eliminar)\n",
    "df_any_prolapse_60 = eliminar_videos(df_any_prolapse_60, eliminar)\n",
    "df_cystocele_50 = eliminar_videos(df_cystocele_50, eliminar)\n",
    "df_cystocele_60 = eliminar_videos(df_cystocele_60, eliminar)\n",
    "df_cystourethrocele_50 = eliminar_videos(df_cystourethrocele_50, eliminar)\n",
    "df_cystourethrocele_60 = eliminar_videos(df_cystourethrocele_60, eliminar)\n",
    "df_uterine_prolapse_50 = eliminar_videos(df_uterine_prolapse_50, eliminar)\n",
    "df_uterine_prolapse_60 = eliminar_videos(df_uterine_prolapse_60, eliminar)\n",
    "df_rectocele_50 = eliminar_videos(df_rectocele_50, eliminar)\n",
    "df_rectocele_60 = eliminar_videos(df_rectocele_60, eliminar)\n",
    "df_cervical_elongation_50 = eliminar_videos(df_cervical_elongation_50, eliminar)\n",
    "df_cervical_elongation_60 = eliminar_videos(df_cervical_elongation_60, eliminar)"
   ]
  },
  {
   "cell_type": "code",
   "execution_count": 17,
   "id": "cd43dd4f",
   "metadata": {},
   "outputs": [],
   "source": [
    "def best_seed_train_test_split(df, target_col=\"any_prolapse\", n_pruebas=600, test_size=0.2):\n",
    "    \n",
    "    video_labels = (df.groupby(\"video\")[target_col].first().reset_index())\n",
    "\n",
    "    seeds = np.arange(1, n_pruebas + 1)\n",
    "    best_seed = None\n",
    "    best_diff = float(\"inf\")\n",
    "    best_train_videos = None\n",
    "    best_test_videos = None\n",
    "\n",
    "    for seed in seeds:\n",
    "        sss = StratifiedShuffleSplit(n_splits=1, test_size=test_size, random_state=seed)\n",
    "\n",
    "\n",
    "        for train_index, test_index in sss.split(video_labels[\"video\"], video_labels[target_col]):\n",
    "            train_videos = video_labels.loc[train_index, \"video\"]\n",
    "            test_videos = video_labels.loc[test_index, \"video\"]\n",
    "\n",
    "        df_train_temp = df[df[\"video\"].isin(train_videos)]\n",
    "        df_test_temp = df[df[\"video\"].isin(test_videos)]\n",
    "\n",
    "        train_ratio = df_train_temp[target_col].value_counts(normalize=True).sort_index()\n",
    "        test_ratio = df_test_temp[target_col].value_counts(normalize=True).sort_index()\n",
    "\n",
    "        diff = np.sum(np.abs(train_ratio - test_ratio))\n",
    "\n",
    "        if diff < best_diff:\n",
    "            best_diff = diff\n",
    "            best_seed = seed\n",
    "            best_train_videos = train_videos\n",
    "            best_test_videos = test_videos\n",
    "\n",
    "    df_train = df[df[\"video\"].isin(best_train_videos)]\n",
    "    df_test = df[df[\"video\"].isin(best_test_videos)]\n",
    "\n",
    "    print(f\"Mejor seed encontrada\")\n",
    "\n",
    "    return df_train, df_test, best_seed"
   ]
  },
  {
   "cell_type": "code",
   "execution_count": 18,
   "id": "5b16e35a",
   "metadata": {},
   "outputs": [
    {
     "name": "stdout",
     "output_type": "stream",
     "text": [
      "Mejor seed encontrada\n",
      "Mejor seed encontrada\n",
      "Mejor seed encontrada\n",
      "Mejor seed encontrada\n",
      "Mejor seed encontrada\n",
      "Mejor seed encontrada\n",
      "Mejor seed encontrada\n",
      "Mejor seed encontrada\n",
      "Mejor seed encontrada\n",
      "Mejor seed encontrada\n",
      "Mejor seed encontrada\n",
      "Mejor seed encontrada\n"
     ]
    }
   ],
   "source": [
    "df_train_any_prolapse_50, df_test_any_prolapse_50, chosen_seed_any_prolapse_50 = best_seed_train_test_split(df_any_prolapse_50, target_col=\"any_prolapse\", n_pruebas=600, test_size=0.2)\n",
    "df_train_any_prolapse_60, df_test_any_prolapse_60, chosen_seed_any_prolapse_60 = best_seed_train_test_split(df_any_prolapse_60, target_col=\"any_prolapse\", n_pruebas=600, test_size=0.2)\n",
    "df_train_cystocele_50, df_test_cystocele_50, chosen_seed_cystocele_50 = best_seed_train_test_split(df_cystocele_50, target_col=\"cystocele\", n_pruebas=600, test_size=0.2)\n",
    "df_train_cystocele_60, df_test_cystocele_60, chosen_seed_cystocele_60 = best_seed_train_test_split(df_cystocele_60, target_col=\"cystocele\", n_pruebas=600, test_size=0.2)\n",
    "df_train_cystourethrocele_50, df_test_cystourethrocele_50, chosen_seed_cystourethrocele_50 = best_seed_train_test_split(df_cystourethrocele_50, target_col=\"cystourethrocele\", n_pruebas=600, test_size=0.2)\n",
    "df_train_cystourethrocele_60, df_test_cystourethrocele_60, chosen_seed_cystourethrocele_60 = best_seed_train_test_split(df_cystourethrocele_60, target_col=\"cystourethrocele\", n_pruebas=600, test_size=0.2)\n",
    "df_train_uterine_prolapse_50, df_test_uterine_prolapse_50, chosen_seed_uterine_prolapse_50 = best_seed_train_test_split(df_uterine_prolapse_50, target_col=\"uterine_prolapse\", n_pruebas=600, test_size=0.2)\n",
    "df_train_uterine_prolapse_60, df_test_uterine_prolapse_60, chosen_seed_uterine_prolapse_60 = best_seed_train_test_split(df_uterine_prolapse_60, target_col=\"uterine_prolapse\", n_pruebas=600, test_size=0.2)\n",
    "df_train_rectocele_50, df_test_rectocele_50, chosen_seed_rectocele_50 = best_seed_train_test_split(df_rectocele_50, target_col=\"rectocele\", n_pruebas=600, test_size=0.2)\n",
    "df_train_rectocele_60, df_test_rectocele_60, chosen_seed_rectocele_60 = best_seed_train_test_split(df_rectocele_60, target_col=\"rectocele\", n_pruebas=600, test_size=0.2)\n",
    "df_train_cervical_elongation_50, df_test_cervical_elongation_50, chosen_seed_cervical_elongation_50 = best_seed_train_test_split(df_cervical_elongation_50, target_col=\"cervical_elongation\", n_pruebas=600, test_size=0.2)\n",
    "df_train_cervical_elongation_60, df_test_cervical_elongation_60, chosen_seed_cervical_elongation_60 = best_seed_train_test_split(df_cervical_elongation_60, target_col=\"cervical_elongation\", n_pruebas=600, test_size=0.2)\n"
   ]
  },
  {
   "cell_type": "code",
   "execution_count": 21,
   "id": "26d322b7",
   "metadata": {},
   "outputs": [
    {
     "data": {
      "text/plain": [
       "['c:\\\\Users\\\\javie\\\\Universidad\\\\tfg\\\\pop-detection-ml\\\\data_storage\\\\train_test_splits\\\\cervical_elongation\\\\train_test_split_60.pkl']"
      ]
     },
     "execution_count": 21,
     "metadata": {},
     "output_type": "execute_result"
    }
   ],
   "source": [
    "\n",
    "joblib.dump((df_train_any_prolapse_50, df_test_any_prolapse_50), BASE_DIR / 'data_storage'  / 'train_test_splits' / 'any_prolapse'/ 'train_test_split.pkl')\n",
    "joblib.dump((df_train_any_prolapse_60, df_test_any_prolapse_60), BASE_DIR / 'data_storage'  / 'train_test_splits' / 'any_prolapse'/ 'train_test_split_60.pkl')\n",
    "joblib.dump((df_train_cystocele_50, df_test_cystocele_50), BASE_DIR / 'data_storage'  / 'train_test_splits' / 'cystocele'/ 'train_test_split.pkl')\n",
    "joblib.dump((df_train_cystocele_60, df_test_cystocele_60), BASE_DIR / 'data_storage'  / 'train_test_splits' / 'cystocele'/ 'train_test_split_60.pkl')\n",
    "joblib.dump((df_train_cystourethrocele_50, df_test_cystourethrocele_50), BASE_DIR / 'data_storage'  / 'train_test_splits' / 'cystourethrocele'/ 'train_test_split.pkl')\n",
    "joblib.dump((df_train_cystourethrocele_60, df_test_cystourethrocele_60), BASE_DIR / 'data_storage'  / 'train_test_splits' / 'cystourethrocele'/ 'train_test_split_60.pkl')\n",
    "joblib.dump((df_train_uterine_prolapse_50, df_test_uterine_prolapse_50), BASE_DIR / 'data_storage'  / 'train_test_splits' / 'uterine_prolapse'/ 'train_test_split.pkl')\n",
    "joblib.dump((df_train_uterine_prolapse_60, df_test_uterine_prolapse_60), BASE_DIR / 'data_storage'  / 'train_test_splits' / 'uterine_prolapse'/ 'train_test_split_60.pkl')\n",
    "joblib.dump((df_train_rectocele_50, df_test_rectocele_50), BASE_DIR / 'data_storage'  / 'train_test_splits' / 'rectocele'/ 'train_test_split.pkl')\n",
    "joblib.dump((df_train_rectocele_60, df_test_rectocele_60), BASE_DIR / 'data_storage'  / 'train_test_splits' / 'rectocele'/ 'train_test_split_60.pkl')\n",
    "joblib.dump((df_train_cervical_elongation_50, df_test_cervical_elongation_50), BASE_DIR / 'data_storage'  / 'train_test_splits' / 'cervical_elongation'/ 'train_test_split.pkl')\n",
    "joblib.dump((df_train_cervical_elongation_60, df_test_cervical_elongation_60), BASE_DIR / 'data_storage'  / 'train_test_splits' / 'cervical_elongation'/ 'train_test_split_60.pkl')\n"
   ]
  },
  {
   "cell_type": "code",
   "execution_count": 22,
   "id": "d6d2844e",
   "metadata": {},
   "outputs": [],
   "source": [
    "def separar_X_y_groups(df, target_col, columns_to_drop=None, group_col=\"video\"):\n",
    "    if columns_to_drop is None:\n",
    "        columns_to_drop = []\n",
    "\n",
    "    all_cols_to_drop = set(columns_to_drop + [target_col])\n",
    "    \n",
    "    y = df[target_col]\n",
    "    \n",
    "    groups = df[group_col]\n",
    "    \n",
    "    X = df.drop(columns=all_cols_to_drop, errors='ignore')\n",
    "    \n",
    "    return X, y, groups"
   ]
  },
  {
   "cell_type": "code",
   "execution_count": 23,
   "id": "d59f907f",
   "metadata": {},
   "outputs": [],
   "source": [
    "cols_to_remove = [\"video\", \"frame_start\", \"frame_end\"]\n",
    "X_train_any_prolapse_50, y_train_any_prolapse_50, groups_train_any_prolapse_50 = separar_X_y_groups(df_train_any_prolapse_50,target_col=\"any_prolapse\",columns_to_drop=cols_to_remove,group_col=\"video\")\n",
    "X_train_any_prolapse_60, y_train_any_prolapse_60, groups_train_any_prolapse_60 = separar_X_y_groups(df_train_any_prolapse_60,target_col=\"any_prolapse\",columns_to_drop=cols_to_remove,group_col=\"video\")\n",
    "X_train_cystocele_50, y_train_cystocele_50, groups_train_cystocele_50 = separar_X_y_groups(df_train_cystocele_50,target_col=\"cystocele\",columns_to_drop=cols_to_remove,group_col=\"video\")\n",
    "X_train_cystocele_60, y_train_cystocele_60, groups_train_cystocele_60 = separar_X_y_groups(df_train_cystocele_60,target_col=\"cystocele\",columns_to_drop=cols_to_remove,group_col=\"video\")\n",
    "X_train_cystourethrocele_50, y_train_cystourethrocele_50, groups_train_cystourethrocele_50 = separar_X_y_groups(df_train_cystourethrocele_50,target_col=\"cystourethrocele\",columns_to_drop=cols_to_remove,group_col=\"video\")\n",
    "X_train_cystourethrocele_60, y_train_cystourethrocele_60, groups_train_cystourethrocele_60 = separar_X_y_groups(df_train_cystourethrocele_60,target_col=\"cystourethrocele\",columns_to_drop=cols_to_remove,group_col=\"video\")\n",
    "X_train_uterine_prolapse_50, y_train_uterine_prolapse_50, groups_train_uterine_prolapse_50 = separar_X_y_groups(df_train_uterine_prolapse_50,target_col=\"uterine_prolapse\",columns_to_drop=cols_to_remove,group_col=\"video\")\n",
    "X_train_uterine_prolapse_60, y_train_uterine_prolapse_60, groups_train_uterine_prolapse_60 = separar_X_y_groups(df_train_uterine_prolapse_60,target_col=\"uterine_prolapse\",columns_to_drop=cols_to_remove,group_col=\"video\")\n",
    "X_train_rectocele_50, y_train_rectocele_50, groups_train_rectocele_50 = separar_X_y_groups(df_train_rectocele_50,target_col=\"rectocele\",columns_to_drop=cols_to_remove,group_col=\"video\")\n",
    "X_train_rectocele_60, y_train_rectocele_60, groups_train_rectocele_60 = separar_X_y_groups(df_train_rectocele_60,target_col=\"rectocele\",columns_to_drop=cols_to_remove,group_col=\"video\")\n",
    "X_train_cervical_elongation_50, y_train_cervical_elongation_50, groups_train_cervical_elongation_50 = separar_X_y_groups(df_train_cervical_elongation_50,target_col=\"cervical_elongation\",columns_to_drop=cols_to_remove,group_col=\"video\")\n",
    "X_train_cervical_elongation_60, y_train_cervical_elongation_60, groups_train_cervical_elongation_60 = separar_X_y_groups(df_train_cervical_elongation_60,target_col=\"cervical_elongation\",columns_to_drop=cols_to_remove,group_col=\"video\")\n"
   ]
  },
  {
   "cell_type": "code",
   "execution_count": 24,
   "id": "25747e45",
   "metadata": {},
   "outputs": [
    {
     "data": {
      "text/plain": [
       "['c:\\\\Users\\\\javie\\\\Universidad\\\\tfg\\\\pop-detection-ml\\\\data_storage\\\\train_test_splits\\\\cervical_elongation\\\\train_data_60.pkl']"
      ]
     },
     "execution_count": 24,
     "metadata": {},
     "output_type": "execute_result"
    }
   ],
   "source": [
    "joblib.dump((X_train_any_prolapse_50, y_train_any_prolapse_50, groups_train_any_prolapse_50), BASE_DIR / 'data_storage'  / 'train_test_splits' / 'any_prolapse'/ 'train_data.pkl')\n",
    "joblib.dump((X_train_any_prolapse_60, y_train_any_prolapse_60, groups_train_any_prolapse_60), BASE_DIR / 'data_storage'  / 'train_test_splits' / 'any_prolapse'/ 'train_data_60.pkl')\n",
    "joblib.dump((X_train_cystocele_50, y_train_cystocele_50, groups_train_cystocele_50), BASE_DIR / 'data_storage'  / 'train_test_splits' / 'cystocele'/ 'train_data.pkl')\n",
    "joblib.dump((X_train_cystocele_60, y_train_cystocele_60, groups_train_cystocele_60), BASE_DIR / 'data_storage'  / 'train_test_splits' / 'cystocele'/ 'train_data_60.pkl')\n",
    "joblib.dump((X_train_cystourethrocele_50, y_train_cystourethrocele_50, groups_train_cystourethrocele_50), BASE_DIR / 'data_storage'  / 'train_test_splits' / 'cystourethrocele'/ 'train_data.pkl')\n",
    "joblib.dump((X_train_cystourethrocele_60, y_train_cystourethrocele_60, groups_train_cystourethrocele_60), BASE_DIR / 'data_storage'  / 'train_test_splits' / 'cystourethrocele'/ 'train_data_60.pkl')\n",
    "joblib.dump((X_train_uterine_prolapse_50, y_train_uterine_prolapse_50, groups_train_uterine_prolapse_50), BASE_DIR / 'data_storage'  / 'train_test_splits' / 'uterine_prolapse'/ 'train_data.pkl')\n",
    "joblib.dump((X_train_uterine_prolapse_60, y_train_uterine_prolapse_60, groups_train_uterine_prolapse_60), BASE_DIR / 'data_storage'  / 'train_test_splits' / 'uterine_prolapse'/ 'train_data_60.pkl')\n",
    "joblib.dump((X_train_rectocele_50, y_train_rectocele_50, groups_train_rectocele_50), BASE_DIR / 'data_storage'  / 'train_test_splits' / 'rectocele'/ 'train_data.pkl')\n",
    "joblib.dump((X_train_rectocele_60, y_train_rectocele_60, groups_train_rectocele_60), BASE_DIR / 'data_storage'  / 'train_test_splits' / 'rectocele'/ 'train_data_60.pkl')\n",
    "joblib.dump((X_train_cervical_elongation_50, y_train_cervical_elongation_50, groups_train_cervical_elongation_50), BASE_DIR / 'data_storage'  / 'train_test_splits' / 'cervical_elongation'/ 'train_data.pkl')\n",
    "joblib.dump((X_train_cervical_elongation_60, y_train_cervical_elongation_60, groups_train_cervical_elongation_60), BASE_DIR / 'data_storage'  / 'train_test_splits' / 'cervical_elongation'/ 'train_data_60.pkl')\n",
    "\n"
   ]
  }
 ],
 "metadata": {
  "kernelspec": {
   "display_name": "venv",
   "language": "python",
   "name": "python3"
  },
  "language_info": {
   "codemirror_mode": {
    "name": "ipython",
    "version": 3
   },
   "file_extension": ".py",
   "mimetype": "text/x-python",
   "name": "python",
   "nbconvert_exporter": "python",
   "pygments_lexer": "ipython3",
   "version": "3.12.0"
  }
 },
 "nbformat": 4,
 "nbformat_minor": 5
}
